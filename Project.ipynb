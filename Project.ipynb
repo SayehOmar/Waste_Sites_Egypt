{
 "cells": [
  {
   "cell_type": "code",
   "execution_count": null,
   "metadata": {},
   "outputs": [],
   "source": [
    "import geopandas as gpd\n",
    "import pandas as pd\n",
    "import folium\n",
    "from shapely.geometry import Point\n",
    "from folium import GeoJson\n",
    "import matplotlib.pyplot as plt"
   ]
  },
  {
   "cell_type": "code",
   "execution_count": null,
   "metadata": {},
   "outputs": [],
   "source": [
    "sites=gpd.read_file('data/country_sites.csv')\n",
    "countries_info = gpd.read_file('data/country_sites.csv')"
   ]
  },
  {
   "cell_type": "code",
   "execution_count": null,
   "metadata": {},
   "outputs": [],
   "source": [
    "sites['coordinates'] = sites['coordinates'].str.strip('[]')"
   ]
  },
  {
   "cell_type": "code",
   "execution_count": null,
   "metadata": {},
   "outputs": [],
   "source": [
    "# Define a function to create Point geometries from coordinates\n",
    "def create_point(coord):\n",
    "    try:\n",
    "# Split the coordinate pair by comma and convert to float\n",
    "        coords = coord.split(',')\n",
    "        longitude = float(coords[0])\n",
    "        latitude = float(coords[1])\n",
    "        return Point(longitude, latitude)\n",
    "    except (ValueError, IndexError):\n",
    "# Handle invalid coordinates\n",
    "        return None\n",
    "# Apply the function to create 'geometry' column\n",
    "sites['geometry'] = sites['coordinates'].apply(create_point)"
   ]
  },
  {
   "cell_type": "code",
   "execution_count": null,
   "metadata": {},
   "outputs": [],
   "source": [
    "egypt_data = sites[sites['country'] == 'Egypt'].copy()\n",
    "nile=gpd.read_file(\"Nile River.shp\")\n",
    "egypt=gpd.read_file('Egypt.shp')\n",
    "egypt_data.crs=nile.crs"
   ]
  },
  {
   "cell_type": "code",
   "execution_count": null,
   "metadata": {},
   "outputs": [],
   "source": [
    "buffer_distance = 0.1\n",
    "buffer_1000m=egypt_data.copy()\n",
    "buffer_1000m.drop(columns=['geometry'])\n",
    "buffer_1000m['geometry'] = egypt_data['geometry'].buffer(buffer_distance)"
   ]
  },
  {
   "cell_type": "code",
   "execution_count": null,
   "metadata": {},
   "outputs": [],
   "source": [
    "buffer_distance = 0.2\n",
    "buffer_2000m=egypt_data.copy()\n",
    "buffer_2000m.drop(columns=['geometry'])\n",
    "buffer_2000m['geometry'] = egypt_data['geometry'].buffer(buffer_distance)"
   ]
  },
  {
   "cell_type": "code",
   "execution_count": null,
   "metadata": {},
   "outputs": [],
   "source": [
    "buffer_distance = 0.01\n",
    "buffer_100m=egypt_data.copy()\n",
    "buffer_100m.drop(columns=['geometry'])\n",
    "buffer_100m['geometry'] = egypt_data['geometry'].buffer(buffer_distance)"
   ]
  },
  {
   "cell_type": "code",
   "execution_count": null,
   "metadata": {},
   "outputs": [],
   "source": [
    "# Create Folium Map with base map as base layer\n",
    "map = folium.Map(location=[30.036749, 31.231509], zoom_start=8)\n",
    "# Add base map layer to Folium map\n",
    "folium.GeoJson(egypt).add_to(map)\n",
    "# Add river shapefile layer to Folium map\n",
    "folium.GeoJson(nile, name='River',color='red').add_to(map)\n",
    "# Add GeoPandas DataFrame layer to Folium map\n",
    "for idx, row in egypt_data.iterrows():\n",
    "    folium.Marker([row['geometry'].y, row['geometry'].x],popup=row['place_name']).add_to(map)\n",
    "for idx, row in buffer_100m.iterrows():\n",
    "    folium.GeoJson(row['geometry'],color=('red')).add_to(map)\n",
    "for idx, row in buffer_2000m.iterrows():\n",
    "    folium.GeoJson(row['geometry'],color=('green')).add_to(map)\n",
    "for idx, row in buffer_1000m.iterrows():\n",
    "    folium.GeoJson(row['geometry'],color=('yellow')).add_to(map)\n",
    "# Display the Map\n",
    "map"
   ]
  },
  {
   "cell_type": "code",
   "execution_count": null,
   "metadata": {},
   "outputs": [],
   "source": [
    "map.save('Buffer-Zones.html')"
   ]
  },
  {
   "cell_type": "code",
   "execution_count": null,
   "metadata": {},
   "outputs": [],
   "source": [
    "output_folder = 'waste places egypt'\n",
    "output_filename = 'waste_places_egypt.shp'\n",
    "#Export the GeoDataFrame as a shapefile\n",
    "egypt_data.to_file(f'{output_folder}/{output_filename}', driver='ESRIShapefile')"
   ]
  },
  {
   "cell_type": "code",
   "execution_count": null,
   "metadata": {},
   "outputs": [],
   "source": [
    "# Perform spatial intersection between the buffer zones and the Nile River\n",
    "intersections1000m = gpd.overlay( nile,buffer_1000m, how='intersection',keep_geom_type=False)\n",
    "# Perform spatial intersection between the buffer zones and the Nile River\n",
    "intersections2000m = gpd.overlay(buffer_2000m, nile,how='intersection',keep_geom_type=False)\n",
    "# Perform spatial intersection between the buffer zones and the Nile River\n",
    "intersections100m = gpd.overlay(buffer_100m, nile,how='intersection',keep_geom_type=False)"
   ]
  },
  {
   "cell_type": "code",
   "execution_count": null,
   "metadata": {},
   "outputs": [],
   "source": [
    "\n",
    "# Create Folium Map with base map as base layer\n",
    "m = folium.Map(location=[30.036749, 31.231509], zoom_start=8)\n",
    "# Create a FeatureGroup for each layer\n",
    "base_group = folium.FeatureGroup(name='Base Layer')\n",
    "river_group = folium.FeatureGroup(name='River Layer')\n",
    "waste_sites_group = folium.FeatureGroup(name='Waste Sites')\n",
    "buffer_100m_group = folium.FeatureGroup(name='100m Buffer')\n",
    "buffer_1000m_group = folium.FeatureGroup(name='1000m Buffer')\n",
    "buffer_2000m_group = folium.FeatureGroup(name='2000m Buffer')\n",
    "# Add base map layer to base_group\n",
    "GeoJson(egypt).add_to(base_group)\n",
    "# Add river shapefile layer to river_group\n",
    "GeoJson(nile, name='River', color='navy').add_to(river_group)\n",
    "# Add waste site markers to waste_sites_group\n",
    "for idx, row in egypt_data.iterrows():\n",
    "    folium.Marker([row['geometry'].y, row['geometry'].x],Popup=row['place_name']).add_to(waste_sites_group)\n",
    "# Add buffer zones to their respective groups\n",
    "for idx, row in intersections100m.iterrows():\n",
    "    GeoJson(row['geometry'], color='red').add_to(buffer_100m_group)\n",
    "for idx, row in intersections1000m.iterrows():\n",
    "    GeoJson(row['geometry'], color='yellow').add_to(buffer_1000m_group)\n",
    "for idx, row in intersections2000m.iterrows():\n",
    "    GeoJson(row['geometry'], color='green').add_to(buffer_2000m_group)\n",
    "# Add all FeatureGroups to the map\n",
    "base_group.add_to(m)\n",
    "river_group.add_to(m)\n",
    "waste_sites_group.add_to(m)\n",
    "buffer_2000m_group.add_to(m)\n",
    "buffer_1000m_group.add_to(m)\n",
    "buffer_100m_group.add_to(m)\n",
    "# Add LayerControl to the map\n",
    "folium.LayerControl().add_to(m)\n",
    "# Display the Map\n",
    "m"
   ]
  },
  {
   "cell_type": "code",
   "execution_count": null,
   "metadata": {},
   "outputs": [],
   "source": [
    "# Save the map as an HTML file\n",
    "m.save(\"Danger_zones.html\")"
   ]
  },
  {
   "cell_type": "code",
   "execution_count": null,
   "metadata": {},
   "outputs": [],
   "source": [
    "#Grading system\n",
    "intersections100m['Red']='Y'\n",
    "intersections100m['Yellow']='N'\n",
    "intersections100m['Green']='N'"
   ]
  },
  {
   "cell_type": "code",
   "execution_count": null,
   "metadata": {},
   "outputs": [],
   "source": [
    "#Grading system\n",
    "intersections1000m['Red']='N'\n",
    "intersections1000m['Yellow']='Y'\n",
    "intersections1000m['Green']='N'"
   ]
  },
  {
   "cell_type": "code",
   "execution_count": null,
   "metadata": {},
   "outputs": [],
   "source": [
    "#Grading system\n",
    "intersections2000m['Green']='Y'\n",
    "intersections2000m['Yellow']='N'\n",
    "intersections2000m['Red']='N'"
   ]
  },
  {
   "cell_type": "code",
   "execution_count": null,
   "metadata": {},
   "outputs": [],
   "source": [
    "all_intersections = pd.concat([intersections100m, intersections1000m,intersections2000m], ignore_index=True)"
   ]
  },
  {
   "cell_type": "code",
   "execution_count": null,
   "metadata": {},
   "outputs": [],
   "source": [
    "\n",
    "# Count the number of 'Y' and 'N' values in each color column\n",
    "color_counts = pd.DataFrame({\n",
    "'Green': pd.Series(all_intersections['Green']).value_counts(),\n",
    "'Yellow': pd.Series(all_intersections['Yellow']).value_counts(),\n",
    "'Red': pd.Series(all_intersections['Red']).value_counts()\n",
    "})\n",
    "# Plotting the pie chart\n",
    "colors = ['green', 'yellow', 'red']\n",
    "labels = ['Low Risk', 'Mild Risk', 'High Risk']\n",
    "plt.pie(color_counts.loc['Y'], labels=labels, colors=colors, autopct='%1.1f%%')\n",
    "plt.title('Distribution of Contamination Risk Areas')\n",
    "# Show the pie chart\n",
    "plt.show()\n",
    "\n"
   ]
  },
  {
   "cell_type": "code",
   "execution_count": null,
   "metadata": {},
   "outputs": [],
   "source": [
    "\n",
    "# Assuming you have already created all_intersections GeoDataFrame\n",
    "# Filter rows where risk level is 'Y' for each color\n",
    "green_sites = all_intersections[all_intersections['Green'] == 'Y']['place_name'].unique()\n",
    "yellow_sites = all_intersections[all_intersections['Yellow'] == 'Y']['place_name'].unique()\n",
    "red_sites = all_intersections[all_intersections['Red'] == 'Y']['place_name'].unique()\n",
    "# Create a DataFrame with unique site names and risk levels\n",
    "data = {\n",
    "'Site Name': all_intersections['place_name'].unique(),\n",
    "'Green': ['Y' if name in green_sites else 'N' for name in all_intersections['place_name'].unique()],\n",
    "'Yellow': ['Y' if name in yellow_sites else 'N' for name in all_intersections['place_name'].unique()],\n",
    "'Red': ['Y' if name in red_sites else 'N' for name in all_intersections['place_name'].unique()]\n",
    "}\n",
    "table_df = pd.DataFrame(data)\n",
    "table_df.to_csv('risk_levels.csv', index=False, encoding='utf-8-sig')"
   ]
  }
 ],
 "metadata": {
  "language_info": {
   "name": "python"
  }
 },
 "nbformat": 4,
 "nbformat_minor": 2
}
